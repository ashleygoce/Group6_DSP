{
 "cells": [
  {
   "cell_type": "code",
   "execution_count": 127,
   "id": "90e829fa-5302-4561-a4e1-539b4e01c8a8",
   "metadata": {},
   "outputs": [],
   "source": [
    "import emoji\n",
    "\n",
    "happy = \"\\U0001F600\"\n",
    "laughing = \"\\U0001F606\"\n",
    "sad = \"\\U0001F62D\""
   ]
  },
  {
   "cell_type": "code",
   "execution_count": 128,
   "id": "5f3dee1c-1a7d-4691-ba71-934f70c71b9e",
   "metadata": {},
   "outputs": [],
   "source": [
    "def calculate_semestral_grade(prelim, midterm, final):\n",
    "    return (prelim * 0.3) + (midterm * 0.3) + (final * 0.4)"
   ]
  },
  {
   "cell_type": "code",
   "execution_count": 129,
   "id": "3316e5ab-d560-4f89-aa26-e4d7ba776f58",
   "metadata": {},
   "outputs": [],
   "source": [
    "def display_emoji(grade):\n",
    "    if grade > 70.00:\n",
    "        return happy\n",
    "    elif grade == 70.00:\n",
    "        return laughing\n",
    "    else:\n",
    "        return sad"
   ]
  },
  {
   "cell_type": "code",
   "execution_count": 130,
   "id": "379c7eb1-a9f4-40ba-ad45-b04dc9d7ef7f",
   "metadata": {},
   "outputs": [],
   "source": [
    "def get_grade_equivalent(grade):\n",
    "    if grade >= 99:\n",
    "        return 1.00, \"A\", \"Excellent\"\n",
    "    elif grade >= 95:\n",
    "        return 1.25, \"A-\", \"Superior\"\n",
    "    elif grade >= 91:\n",
    "        return 1.50, \"B+\", \"Superior\"\n",
    "    elif grade >= 87:\n",
    "        return 1.75, \"B\", \"Average\"\n",
    "    elif grade >= 83:\n",
    "        return 2.00, \"B-\", \"Average\"\n",
    "    elif grade >= 80:\n",
    "        return 2.25, \"C+\", \"Passed\"\n",
    "    elif grade >= 77:\n",
    "        return 2.50, \"C\", \"Passed\"\n",
    "    elif grade >= 74:\n",
    "        return 2.75, \"C-\", \"Passed\"\n",
    "    elif grade >= 71:\n",
    "        return 3.00, \"D\", \"Passed\"\n",
    "    elif grade >= 70:\n",
    "        return 3.00, \"D\", \"Passed\"\n",
    "    else:\n",
    "        return 5.00, \"F\", \"Failed\"\n"
   ]
  },
  {
   "cell_type": "code",
   "execution_count": 131,
   "id": "80d05ec7-c801-488b-a6ca-27d4341c450e",
   "metadata": {},
   "outputs": [
    {
     "name": "stdin",
     "output_type": "stream",
     "text": [
      "Enter your name:  Maraiah Lim\n",
      "Enter course name:  CPE\n",
      "Enter prelim grade:  69\n",
      "Enter midterm grade:  69\n",
      "Enter final grade:  69\n"
     ]
    },
    {
     "name": "stdout",
     "output_type": "stream",
     "text": [
      "\n",
      "Student Name: Maraiah Lim\n",
      "Course: CPE\n",
      "Semestral Grade: 69.00\n",
      "Grade Status: 😭\n"
     ]
    },
    {
     "name": "stdin",
     "output_type": "stream",
     "text": [
      "\n",
      "Do you want to see your grade point equivalent and description? (yes/no):  no\n"
     ]
    }
   ],
   "source": [
    "def main():\n",
    "    name = input(\"Enter your name: \")\n",
    "    course = input(\"Enter course name: \")\n",
    "    \n",
    "    prelim = float(input(\"Enter prelim grade: \"))\n",
    "    midterm = float(input(\"Enter midterm grade: \"))\n",
    "    final = float(input(\"Enter final grade: \"))\n",
    "    \n",
    "    semestral_grade = calculate_semestral_grade(prelim, midterm, final)\n",
    "    \n",
    "    print(f\"\\nStudent Name: {name}\")\n",
    "    print(f\"Course: {course}\")\n",
    "    print(f\"Semestral Grade: {semestral_grade:.2f}\")\n",
    "    print(f\"Grade Status: {display_emoji(semestral_grade)}\")\n",
    "    \n",
    "    show_equivalent = input(\"\\nDo you want to see your grade point equivalent and description? (yes/no): \").lower()\n",
    "    \n",
    "    if show_equivalent == \"yes\":\n",
    "        grade_point, letter, description = get_grade_equivalent(semestral_grade)\n",
    "        print(f\"\\nGrade Point Equivalent: {grade_point}\")\n",
    "        print(f\"Letter Equivalent: {letter}\")\n",
    "        print(f\"Description: {description}\")\n",
    "\n",
    "main()"
   ]
  }
 ],
 "metadata": {
  "kernelspec": {
   "display_name": "Python 3 (ipykernel)",
   "language": "python",
   "name": "python3"
  },
  "language_info": {
   "codemirror_mode": {
    "name": "ipython",
    "version": 3
   },
   "file_extension": ".py",
   "mimetype": "text/x-python",
   "name": "python",
   "nbconvert_exporter": "python",
   "pygments_lexer": "ipython3",
   "version": "3.12.4"
  }
 },
 "nbformat": 4,
 "nbformat_minor": 5
}
